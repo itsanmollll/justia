{
 "cells": [
  {
   "cell_type": "code",
   "execution_count": 1,
   "id": "ddb61a8b-3e02-4758-8d75-dfdc3e9e0a92",
   "metadata": {},
   "outputs": [],
   "source": [
    "import numpy as np \n",
    "import pandas as pd "
   ]
  },
  {
   "cell_type": "code",
   "execution_count": 2,
   "id": "73bfd9c5-4cf5-429f-91e6-43e493db0a23",
   "metadata": {},
   "outputs": [],
   "source": [
    "df = pd.read_csv('legal_text_classification.csv')"
   ]
  },
  {
   "cell_type": "code",
   "execution_count": 4,
   "id": "f3d00b2a-12a5-4d85-8aa7-432576391a61",
   "metadata": {},
   "outputs": [
    {
     "data": {
      "text/html": [
       "<div>\n",
       "<style scoped>\n",
       "    .dataframe tbody tr th:only-of-type {\n",
       "        vertical-align: middle;\n",
       "    }\n",
       "\n",
       "    .dataframe tbody tr th {\n",
       "        vertical-align: top;\n",
       "    }\n",
       "\n",
       "    .dataframe thead th {\n",
       "        text-align: right;\n",
       "    }\n",
       "</style>\n",
       "<table border=\"1\" class=\"dataframe\">\n",
       "  <thead>\n",
       "    <tr style=\"text-align: right;\">\n",
       "      <th></th>\n",
       "      <th>case_id</th>\n",
       "      <th>case_outcome</th>\n",
       "      <th>case_title</th>\n",
       "      <th>case_text</th>\n",
       "    </tr>\n",
       "  </thead>\n",
       "  <tbody>\n",
       "    <tr>\n",
       "      <th>0</th>\n",
       "      <td>Case1</td>\n",
       "      <td>cited</td>\n",
       "      <td>Alpine Hardwood (Aust) Pty Ltd v Hardys Pty Lt...</td>\n",
       "      <td>Ordinarily that discretion will be exercised s...</td>\n",
       "    </tr>\n",
       "    <tr>\n",
       "      <th>1</th>\n",
       "      <td>Case2</td>\n",
       "      <td>cited</td>\n",
       "      <td>Black v Lipovac [1998] FCA 699 ; (1998) 217 AL...</td>\n",
       "      <td>The general principles governing the exercise ...</td>\n",
       "    </tr>\n",
       "    <tr>\n",
       "      <th>2</th>\n",
       "      <td>Case3</td>\n",
       "      <td>cited</td>\n",
       "      <td>Colgate Palmolive Co v Cussons Pty Ltd (1993) ...</td>\n",
       "      <td>Ordinarily that discretion will be exercised s...</td>\n",
       "    </tr>\n",
       "    <tr>\n",
       "      <th>3</th>\n",
       "      <td>Case4</td>\n",
       "      <td>cited</td>\n",
       "      <td>Dais Studio Pty Ltd v Bullett Creative Pty Ltd...</td>\n",
       "      <td>The general principles governing the exercise ...</td>\n",
       "    </tr>\n",
       "    <tr>\n",
       "      <th>4</th>\n",
       "      <td>Case5</td>\n",
       "      <td>cited</td>\n",
       "      <td>Dr Martens Australia Pty Ltd v Figgins Holding...</td>\n",
       "      <td>The preceding general principles inform the ex...</td>\n",
       "    </tr>\n",
       "  </tbody>\n",
       "</table>\n",
       "</div>"
      ],
      "text/plain": [
       "  case_id case_outcome                                         case_title  \\\n",
       "0   Case1        cited  Alpine Hardwood (Aust) Pty Ltd v Hardys Pty Lt...   \n",
       "1   Case2        cited  Black v Lipovac [1998] FCA 699 ; (1998) 217 AL...   \n",
       "2   Case3        cited  Colgate Palmolive Co v Cussons Pty Ltd (1993) ...   \n",
       "3   Case4        cited  Dais Studio Pty Ltd v Bullett Creative Pty Ltd...   \n",
       "4   Case5        cited  Dr Martens Australia Pty Ltd v Figgins Holding...   \n",
       "\n",
       "                                           case_text  \n",
       "0  Ordinarily that discretion will be exercised s...  \n",
       "1  The general principles governing the exercise ...  \n",
       "2  Ordinarily that discretion will be exercised s...  \n",
       "3  The general principles governing the exercise ...  \n",
       "4  The preceding general principles inform the ex...  "
      ]
     },
     "execution_count": 4,
     "metadata": {},
     "output_type": "execute_result"
    }
   ],
   "source": [
    "df.head()"
   ]
  },
  {
   "cell_type": "code",
   "execution_count": 5,
   "id": "ba6b02da-1148-42d4-ae81-03ed670520b5",
   "metadata": {},
   "outputs": [
    {
     "data": {
      "text/html": [
       "<div>\n",
       "<style scoped>\n",
       "    .dataframe tbody tr th:only-of-type {\n",
       "        vertical-align: middle;\n",
       "    }\n",
       "\n",
       "    .dataframe tbody tr th {\n",
       "        vertical-align: top;\n",
       "    }\n",
       "\n",
       "    .dataframe thead th {\n",
       "        text-align: right;\n",
       "    }\n",
       "</style>\n",
       "<table border=\"1\" class=\"dataframe\">\n",
       "  <thead>\n",
       "    <tr style=\"text-align: right;\">\n",
       "      <th></th>\n",
       "      <th>case_id</th>\n",
       "      <th>case_outcome</th>\n",
       "      <th>case_title</th>\n",
       "      <th>case_text</th>\n",
       "    </tr>\n",
       "  </thead>\n",
       "  <tbody>\n",
       "    <tr>\n",
       "      <th>count</th>\n",
       "      <td>24985</td>\n",
       "      <td>24985</td>\n",
       "      <td>24985</td>\n",
       "      <td>24809</td>\n",
       "    </tr>\n",
       "    <tr>\n",
       "      <th>unique</th>\n",
       "      <td>24985</td>\n",
       "      <td>10</td>\n",
       "      <td>18581</td>\n",
       "      <td>17920</td>\n",
       "    </tr>\n",
       "    <tr>\n",
       "      <th>top</th>\n",
       "      <td>Case1</td>\n",
       "      <td>cited</td>\n",
       "      <td>Minister for Immigration and Ethnic Affairs v ...</td>\n",
       "      <td>submitted that this Court should hold that the...</td>\n",
       "    </tr>\n",
       "    <tr>\n",
       "      <th>freq</th>\n",
       "      <td>1</td>\n",
       "      <td>12219</td>\n",
       "      <td>70</td>\n",
       "      <td>42</td>\n",
       "    </tr>\n",
       "  </tbody>\n",
       "</table>\n",
       "</div>"
      ],
      "text/plain": [
       "       case_id case_outcome  \\\n",
       "count    24985        24985   \n",
       "unique   24985           10   \n",
       "top      Case1        cited   \n",
       "freq         1        12219   \n",
       "\n",
       "                                               case_title  \\\n",
       "count                                               24985   \n",
       "unique                                              18581   \n",
       "top     Minister for Immigration and Ethnic Affairs v ...   \n",
       "freq                                                   70   \n",
       "\n",
       "                                                case_text  \n",
       "count                                               24809  \n",
       "unique                                              17920  \n",
       "top     submitted that this Court should hold that the...  \n",
       "freq                                                   42  "
      ]
     },
     "execution_count": 5,
     "metadata": {},
     "output_type": "execute_result"
    }
   ],
   "source": [
    "df. describe()"
   ]
  },
  {
   "cell_type": "code",
   "execution_count": 6,
   "id": "0d021c8b-d42c-4d09-bf4b-cb14ab8e894f",
   "metadata": {},
   "outputs": [
    {
     "data": {
      "text/plain": [
       "<bound method DataFrame.info of          case_id   case_outcome  \\\n",
       "0          Case1          cited   \n",
       "1          Case2          cited   \n",
       "2          Case3          cited   \n",
       "3          Case4          cited   \n",
       "4          Case5          cited   \n",
       "...          ...            ...   \n",
       "24980  Case25203          cited   \n",
       "24981  Case25204          cited   \n",
       "24982  Case25205          cited   \n",
       "24983  Case25206  distinguished   \n",
       "24984  Case25207  distinguished   \n",
       "\n",
       "                                              case_title  \\\n",
       "0      Alpine Hardwood (Aust) Pty Ltd v Hardys Pty Lt...   \n",
       "1      Black v Lipovac [1998] FCA 699 ; (1998) 217 AL...   \n",
       "2      Colgate Palmolive Co v Cussons Pty Ltd (1993) ...   \n",
       "3      Dais Studio Pty Ltd v Bullett Creative Pty Ltd...   \n",
       "4      Dr Martens Australia Pty Ltd v Figgins Holding...   \n",
       "...                                                  ...   \n",
       "24980  Reches Pty Ltd v Tadiran Pty Ltd (1998) 85 FCR...   \n",
       "24981  Sir Lindsay Parkinson &amp; Co Ltd v Triplan L...   \n",
       "24982  Spiel v Commodity Brokers Australia Pty Ltd (I...   \n",
       "24983  Tullock Ltd v Walker (Unreported, Supreme Cour...   \n",
       "24984  Yandil Holdings Pty Ltd v Insurance Co of Nort...   \n",
       "\n",
       "                                               case_text  \n",
       "0      Ordinarily that discretion will be exercised s...  \n",
       "1      The general principles governing the exercise ...  \n",
       "2      Ordinarily that discretion will be exercised s...  \n",
       "3      The general principles governing the exercise ...  \n",
       "4      The preceding general principles inform the ex...  \n",
       "...                                                  ...  \n",
       "24980  That is not confined to persons who control th...  \n",
       "24981  Once the threshold prescribed by s 1335 is sat...  \n",
       "24982  Once the threshold prescribed by s 1335 is sat...  \n",
       "24983  Given the extent to which Deumer stands to gai...  \n",
       "24984  In my view, it is clear that the Court may do ...  \n",
       "\n",
       "[24985 rows x 4 columns]>"
      ]
     },
     "execution_count": 6,
     "metadata": {},
     "output_type": "execute_result"
    }
   ],
   "source": [
    "df.info "
   ]
  },
  {
   "cell_type": "code",
   "execution_count": 7,
   "id": "7de9c347-8407-4438-b707-a572f8e59d77",
   "metadata": {},
   "outputs": [
    {
     "data": {
      "text/plain": [
       "Index(['case_id', 'case_outcome', 'case_title', 'case_text'], dtype='object')"
      ]
     },
     "execution_count": 7,
     "metadata": {},
     "output_type": "execute_result"
    }
   ],
   "source": [
    "df.columns "
   ]
  },
  {
   "cell_type": "code",
   "execution_count": null,
   "id": "b46f2559-c6ec-4e35-adc0-1454fec871e6",
   "metadata": {},
   "outputs": [],
   "source": []
  }
 ],
 "metadata": {
  "kernelspec": {
   "display_name": "Python 3 (ipykernel)",
   "language": "python",
   "name": "python3"
  },
  "language_info": {
   "codemirror_mode": {
    "name": "ipython",
    "version": 3
   },
   "file_extension": ".py",
   "mimetype": "text/x-python",
   "name": "python",
   "nbconvert_exporter": "python",
   "pygments_lexer": "ipython3",
   "version": "3.11.8"
  }
 },
 "nbformat": 4,
 "nbformat_minor": 5
}
